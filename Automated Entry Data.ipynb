{
 "cells": [
  {
   "cell_type": "code",
   "execution_count": 1,
   "id": "62939e08",
   "metadata": {},
   "outputs": [],
   "source": [
    "from selenium import webdriver\n",
    "from selenium.webdriver.common.by import By\n",
    "from selenium.webdriver.common.keys import Keys\n",
    "from selenium.webdriver.support import expected_conditions as EC\n",
    "from selenium.webdriver.support.ui import WebDriverWait, Select\n",
    "from selenium.common.exceptions import NoSuchElementException, TimeoutException, InvalidArgumentException\n",
    "# from selenium.webdriver.support.ui import \n",
    "\n",
    "from selenium.webdriver.support.ui import Select\n",
    "import time"
   ]
  },
  {
   "cell_type": "code",
   "execution_count": 2,
   "id": "89ec0784",
   "metadata": {},
   "outputs": [],
   "source": [
    "import pandas as pd"
   ]
  },
  {
   "cell_type": "markdown",
   "id": "87e95a21",
   "metadata": {},
   "source": [
    "# Connect app"
   ]
  },
  {
   "cell_type": "code",
   "execution_count": 5,
   "id": "8887a0fa",
   "metadata": {},
   "outputs": [],
   "source": [
    "browser = webdriver.Chrome(executable_path=r'.\\chromedriver.exe')"
   ]
  },
  {
   "cell_type": "markdown",
   "id": "47eb0df8",
   "metadata": {},
   "source": [
    "# Import excel"
   ]
  },
  {
   "cell_type": "code",
   "execution_count": 5,
   "id": "09a67b8b",
   "metadata": {},
   "outputs": [],
   "source": [
    "df = pd.ExcelFile('PEMETAAN KELAS 20212022 NEW - Copy.xlsx')\n"
   ]
  },
  {
   "cell_type": "code",
   "execution_count": 9,
   "id": "7321f494",
   "metadata": {},
   "outputs": [],
   "source": [
    "from datetime import datetime\n",
    "date_time_str = '18/01/19 01:55:19'\n",
    "date_time_obj = datetime.strptime(date_time_str, '%d/%m/%y %H:%M:%S')"
   ]
  },
  {
   "cell_type": "code",
   "execution_count": 71,
   "id": "eaa5585d",
   "metadata": {},
   "outputs": [],
   "source": [
    "df_try = df.parse(df.sheet_names[0])\n",
    "df_try = df_try[df_try.No.notna()]"
   ]
  },
  {
   "cell_type": "code",
   "execution_count": 8,
   "id": "70f55feb",
   "metadata": {},
   "outputs": [],
   "source": [
    "# format ini penting!!!!!!!!!!!!!!!!!!!\n",
    "format_month = {\n",
    "    'Januari'    :'01',\n",
    "    'Februari'   :'02', \n",
    "    'Maret'      :'03', \n",
    "    'April'      :'04', \n",
    "    'Mei'        :'05', \n",
    "    'Juni'       :'06', \n",
    "    'Juli'       :'07', \n",
    "    'Agustus'    :'08', \n",
    "    'September'  :'09', \n",
    "    'Oktober'    :'10', \n",
    "    'November'   :'11', \n",
    "    'Desember'   :'12',\n",
    "    ' '          :'/'\n",
    "}\n",
    "\n",
    "fix_agama = {\n",
    "    'Khatolik':'Katolik',\n",
    "    'Kong Hu Cu': 'Konghucu'\n",
    "}"
   ]
  },
  {
   "cell_type": "code",
   "execution_count": 112,
   "id": "69986f88",
   "metadata": {},
   "outputs": [],
   "source": []
  },
  {
   "cell_type": "code",
   "execution_count": 199,
   "id": "c6fc1d28",
   "metadata": {},
   "outputs": [],
   "source": [
    "df_try['Pada Tanggal'] = df_try['Pada Tanggal'].replace(format_month, regex=True)\n",
    "df_try['Tempat Lahir'] = df_try['Tempat Tanggal Lahir'].str.split(',').str[0]\n",
    "df_try['Tanggal Lahir'] = df_try['Tempat Tanggal Lahir'].str.split(',').str[1].str[1:]\n",
    "df_try['Tanggal Lahir'] = df_try['Tanggal Lahir'].replace(format_month, regex=True)\n",
    "df_try['Anak Ke'] = df_try['Anak Ke -'].str[0]\n",
    "df_try['Agama'] = df_try['Agama'].replace(fix_agama, regex=True)"
   ]
  },
  {
   "cell_type": "markdown",
   "id": "1300e215",
   "metadata": {},
   "source": [
    "# Satu file SMP"
   ]
  },
  {
   "cell_type": "code",
   "execution_count": 18,
   "id": "10bab4c4",
   "metadata": {},
   "outputs": [],
   "source": [
    "df = pd.read_excel('data siswa yang belum terinput (SD).xlsx',dtype='str')"
   ]
  },
  {
   "cell_type": "code",
   "execution_count": 21,
   "id": "dab00278",
   "metadata": {
    "scrolled": true
   },
   "outputs": [],
   "source": [
    "browser.get('https://sd.mitrakasih.online/student/create')\n",
    "if 'login' in browser.current_url:\n",
    "    browser.find_element(By.XPATH,'//*[@id=\"email\"]').clear()\n",
    "    browser.find_element(By.XPATH,'//*[@id=\"password\"]').clear()\n",
    "    browser.find_element(By.XPATH,'//*[@id=\"email\"]').send_keys(\"\")\n",
    "    browser.find_element(By.XPATH,'//*[@id=\"password\"]').send_keys(\"\")\n",
    "    browser.find_element(By.XPATH,'/html/body/div/div/main/div/div/div/div/div/div/form/div[6]/div/button').click()\n",
    "    pass\n"
   ]
  },
  {
   "cell_type": "code",
   "execution_count": 22,
   "id": "ab703c55",
   "metadata": {},
   "outputs": [],
   "source": [
    "df_try = df.copy()\n",
    "df_try = df_try[df_try.iloc[:,0].notna()]\n",
    "# df_try = df_try.replace({'-':''})\n",
    "df_try = df_try.fillna('')\n",
    "\n",
    "\n",
    "df_try['Pada Tanggal'] = df_try['Pada Tanggal'].replace(format_month, regex=True)\n",
    "df_try['Tempat Lahir'] = df_try['Tempat Tanggal Lahir'].str.split(',').str[0]\n",
    "df_try['Tanggal Lahir'] = df_try['Tempat Tanggal Lahir'].str.split(',').str[1].str[1:]\n",
    "df_try['Tanggal Lahir'] = df_try['Tanggal Lahir'].replace(format_month, regex=True)\n",
    "df_try['Jenis Kelamin'] = df_try['Jenis Kelamin'].str.replace('Laki-laki','Laki-Laki')\n",
    "df_try['Anak Ke'] = df_try['Anak Ke -'].str[0]\n",
    "df_try['Agama'] = df_try['Agama'].replace(fix_agama, regex=True)\n",
    "df_try['Jenis Kelamin'] = df_try['Jenis Kelamin'].str.replace(' ','')\n",
    "\n",
    "for idx_df,baris in df_try.iterrows():\n",
    "    browser.get('https://sd.mitrakasih.online/student/create')\n",
    "    wait = WebDriverWait(browser, 30)\n",
    "\n",
    "    # pilih jenis pendaftaran\n",
    "    select = Select(browser.find_element(By.XPATH,'//*[@id=\"card0\"]/div/div/div[1]/select'))\n",
    "    select.select_by_value('1')\n",
    "    # Pendaftaran Siswa\n",
    "    browser.find_element(By.XPATH,'//*[@id=\"accordion\"]/div/button').click()\n",
    "    time.sleep(0.2)\n",
    "    date= wait.until(EC.element_to_be_clickable((By.XPATH, '//*[@name=\"date_school\"]')))\n",
    "    browser.execute_script(f\"arguments[0].removeAttribute('readonly')\", date)\n",
    "    browser.find_element(By.XPATH,'//*[@name=\"date_school\"]').clear()\n",
    "    browser.find_element(By.XPATH,'//*[@name=\"date_school\"]').send_keys(baris['Pada Tanggal'])\n",
    "    browser.find_element(By.XPATH,'//*[@name=\"school_before\"]').clear()\n",
    "    browser.find_element(By.XPATH,'//*[@name=\"school_before\"]').send_keys(baris['Nama Sekolah Asal'])\n",
    "    browser.find_element(By.XPATH,'//*[@name=\"school_address\"]').clear()\n",
    "    browser.find_element(By.XPATH,'//*[@name=\"school_address\"]').send_keys(baris['Alamat Sekolah Asal'])\n",
    "\n",
    "\n",
    "    # Data Pribadi Siswa\n",
    "    browser.find_element(By.XPATH,'//*[@id=\"accordion\"]/div/div[2]/button').click()\n",
    "    time.sleep(0.2)\n",
    "    browser.find_element(By.XPATH,'//*[@name=\"name\"]').clear()\n",
    "    browser.find_element(By.XPATH,'//*[@name=\"name\"]').send_keys(baris['Nama'])\n",
    "\n",
    "    try:\n",
    "        NIS = int(baris['No Induk'])\n",
    "    except:\n",
    "        NIS = str(baris['No Induk'])\n",
    "    browser.find_element(By.XPATH,'//*[@name=\"nis\"]').clear()\n",
    "    browser.find_element(By.XPATH,'//*[@name=\"nis\"]').send_keys(NIS)\n",
    "\n",
    "    try:\n",
    "        NISN = int(baris['NISN'])\n",
    "    except:\n",
    "        NISN = str(baris['NISN'])\n",
    "    browser.find_element(By.XPATH,'//*[@name=\"nisn\"]').clear()\n",
    "    browser.find_element(By.XPATH,'//*[@name=\"nisn\"]').send_keys(NISN)\n",
    "    browser.find_element(By.XPATH,'//*[@name=\"place_born\"]').clear()\n",
    "    browser.find_element(By.XPATH,'//*[@name=\"place_born\"]').send_keys(baris['Tempat Lahir'])\n",
    "    date= wait.until(EC.element_to_be_clickable((By.XPATH, '//*[@name=\"birth_born\"]')))\n",
    "    browser.execute_script(f\"arguments[0].removeAttribute('readonly')\", date)\n",
    "    browser.find_element(By.XPATH,'//*[@name=\"birth_born\"]').clear()\n",
    "    browser.find_element(By.XPATH,'//*[@name=\"birth_born\"]').send_keys(baris['Tanggal Lahir'])\n",
    "    select = Select(browser.find_element(By.XPATH,'//*[@name=\"gender\"]'))\n",
    "    select.select_by_visible_text(baris['Jenis Kelamin'].replace('laki','Laki'))\n",
    "    browser.find_element(By.XPATH,'//*[@name=\"address\"]').clear()\n",
    "    browser.find_element(By.XPATH,'//*[@name=\"address\"]').send_keys(baris['Nama Ibu'])\n",
    "    select = Select(browser.find_element(By.XPATH,'//*[@name=\"child_order\"]'))\n",
    "    select.select_by_visible_text(baris['Anak Ke'])\n",
    "\n",
    "    # Data Ibu Kandung\n",
    "    browser.find_element(By.XPATH,'//*[@id=\"accordion\"]/div/div[3]/button').click()\n",
    "    time.sleep(0.2)\n",
    "    browser.find_element(By.XPATH,'//*[@name=\"parent[1][name]\"]').clear()\n",
    "    browser.find_element(By.XPATH,'//*[@name=\"parent[1][name]\"]').send_keys(baris['Nama Ibu'])\n",
    "    browser.find_element(By.XPATH,'//*[@name=\"parent[1][phone_number]\"]').clear()\n",
    "    browser.find_element(By.XPATH,'//*[@name=\"parent[1][phone_number]\"]').send_keys(str(baris['Telp Ibu']))\n",
    "    browser.find_element(By.XPATH,'//*[@name=\"parent[1][work]\"]').clear()\n",
    "    browser.find_element(By.XPATH,'//*[@name=\"parent[1][work]\"]').send_keys(baris['Pekerjaan Ibu'])\n",
    "\n",
    "    # Data Ayah Kandung\n",
    "    browser.find_element(By.XPATH,'//*[@id=\"accordion\"]/div/div[4]/button').click()\n",
    "    time.sleep(0.2)\n",
    "    browser.find_element(By.XPATH,'//*[@name=\"parent[2][name]\"]').clear()\n",
    "    browser.find_element(By.XPATH,'//*[@name=\"parent[2][name]\"]').send_keys(baris['Nama Ayah'])\n",
    "    browser.find_element(By.XPATH,'//*[@name=\"parent[2][phone_number]\"]').clear()\n",
    "    browser.find_element(By.XPATH,'//*[@name=\"parent[2][phone_number]\"]').send_keys(str(baris['Telp Ayah']))\n",
    "    browser.find_element(By.XPATH,'//*[@name=\"parent[2][work]\"]').clear()\n",
    "    browser.find_element(By.XPATH,'//*[@name=\"parent[2][work]\"]').send_keys(baris['Pekerjaan Ayah'])\n",
    "\n",
    "    # Data Wali\n",
    "    browser.find_element(By.XPATH,'//*[@id=\"accordion\"]/div/div[5]/button').click()\n",
    "    time.sleep(0.2)\n",
    "    browser.find_element(By.XPATH,'//*[@name=\"parent[3][name]\"]').clear()\n",
    "    browser.find_element(By.XPATH,'//*[@name=\"parent[3][name]\"]').send_keys(baris['Nama Wali'])\n",
    "    browser.find_element(By.XPATH,'//*[@name=\"parent[3][phone_number]\"]').clear()\n",
    "    browser.find_element(By.XPATH,'//*[@name=\"parent[3][phone_number]\"]').send_keys(str(baris['Telp Wali']))\n",
    "    browser.find_element(By.XPATH,'//*[@name=\"parent[3][work]\"]').clear()\n",
    "    browser.find_element(By.XPATH,'//*[@name=\"parent[3][work]\"]').send_keys(baris['Pekerjaan Wali'])\n",
    "\n",
    "    browser.find_element(By.XPATH,'//*[@id=\"content\"]/form/div/div[2]/button').click()"
   ]
  },
  {
   "cell_type": "markdown",
   "id": "828f811b",
   "metadata": {},
   "source": [
    "# Iterasi SD"
   ]
  },
  {
   "cell_type": "code",
   "execution_count": 307,
   "id": "c2fb69d7",
   "metadata": {},
   "outputs": [],
   "source": [
    "df = pd.ExcelFile('9528D500.xlsx')"
   ]
  },
  {
   "cell_type": "code",
   "execution_count": 290,
   "id": "6b9206de",
   "metadata": {},
   "outputs": [
    {
     "name": "stdout",
     "output_type": "stream",
     "text": [
      "['P1A', 'P1B', 'P1C', 'P2A', 'P2B', 'P2C', 'P3 A', 'P3 B', 'P3 C', 'P4A', 'P4B', 'P4C', 'P5 A', 'P5B 3', 'P5 C ', 'P5 D', 'P6A', 'P6B']\n"
     ]
    }
   ],
   "source": [
    "range_sd = range(0,6)\n",
    "list_sd = [s for s in df.sheet_names for i in range_sd if 'P'+str(i+1) in s]\n",
    "print(list_sd)"
   ]
  },
  {
   "cell_type": "code",
   "execution_count": 298,
   "id": "5f032523",
   "metadata": {},
   "outputs": [
    {
     "data": {
      "text/plain": [
       "'P3 B'"
      ]
     },
     "execution_count": 298,
     "metadata": {},
     "output_type": "execute_result"
    }
   ],
   "source": [
    "kelas_sd"
   ]
  },
  {
   "cell_type": "code",
   "execution_count": 303,
   "id": "51505288",
   "metadata": {
    "scrolled": true
   },
   "outputs": [
    {
     "name": "stdout",
     "output_type": "stream",
     "text": [
      "P4C\n",
      "P5 A\n",
      "P5B 3\n",
      "P5 C \n",
      "P5 D\n",
      "P6A\n",
      "P6B\n"
     ]
    }
   ],
   "source": [
    "browser.get('https://sd.mitrakasih.online/student/create')\n",
    "if 'login' in browser.current_url:\n",
    "    browser.find_element(By.XPATH,'//*[@id=\"email\"]').clear()\n",
    "    browser.find_element(By.XPATH,'//*[@id=\"password\"]').clear()\n",
    "    browser.find_element(By.XPATH,'//*[@id=\"email\"]').send_keys(\"\")\n",
    "    browser.find_element(By.XPATH,'//*[@id=\"password\"]').send_keys(\"\")\n",
    "    browser.find_element(By.XPATH,'/html/body/div/div/main/div/div/div/div/div/div/form/div[6]/div/button').click()\n",
    "    pass\n",
    "\n",
    "#list sd sementara. kalo dah kelar dan dk ad eror, hapus aja\n",
    "list_sd = ['P4C', 'P5 A', 'P5B 3', 'P5 C ', 'P5 D', 'P6A', 'P6B']\n",
    "\n",
    "# iterasi semua sheet\n",
    "for kelas_sd in list_sd:\n",
    "    print(kelas_sd)\n",
    "    df_try = df.parse(kelas_sd)\n",
    "    df_try = df_try[df_try.iloc[:,0].notna()]\n",
    "    df_try = df_try.replace({'-':''})\n",
    "    df_try = df_try.fillna('')\n",
    "    \n",
    "    \n",
    "    df_try['Pada Tanggal'] = df_try['Pada Tanggal'].replace(format_month, regex=True)\n",
    "    df_try['Tempat Lahir'] = df_try['Tempat Tanggal Lahir'].str.split(',').str[0]\n",
    "    df_try['Tanggal Lahir'] = df_try['Tempat Tanggal Lahir'].str.split(',').str[1].str[1:]\n",
    "    df_try['Tanggal Lahir'] = df_try['Tanggal Lahir'].replace(format_month, regex=True)\n",
    "    df_try['Jenis Kelamin'] = df_try['Jenis Kelamin'].str.replace('Laki-laki','Laki-Laki')\n",
    "    df_try['Anak Ke'] = df_try['Anak Ke -'].str[0]\n",
    "    df_try['Agama'] = df_try['Agama'].replace(fix_agama, regex=True)\n",
    "    df_try['Jenis Kelamin'] = df_try['Jenis Kelamin'].str.replace(' ','')\n",
    "    \n",
    "    for idx_df,baris in df_try.iterrows():\n",
    "        browser.get('https://sd.mitrakasih.online/student/create')\n",
    "        wait = WebDriverWait(browser, 30)\n",
    "\n",
    "        # pilih jenis pendaftaran\n",
    "        select = Select(browser.find_element(By.XPATH,'//*[@id=\"card0\"]/div/div/div[1]/select'))\n",
    "        select.select_by_value('1')\n",
    "        # Pendaftaran Siswa\n",
    "        browser.find_element(By.XPATH,'//*[@id=\"accordion\"]/div/button').click()\n",
    "        time.sleep(0.2)\n",
    "        date= wait.until(EC.element_to_be_clickable((By.XPATH, '//*[@name=\"date_school\"]')))\n",
    "        browser.execute_script(f\"arguments[0].removeAttribute('readonly')\", date)\n",
    "        browser.find_element(By.XPATH,'//*[@name=\"date_school\"]').clear()\n",
    "        browser.find_element(By.XPATH,'//*[@name=\"date_school\"]').send_keys(baris['Pada Tanggal'])\n",
    "        browser.find_element(By.XPATH,'//*[@name=\"school_before\"]').clear()\n",
    "        browser.find_element(By.XPATH,'//*[@name=\"school_before\"]').send_keys(baris['Nama Sekolah Asal'])\n",
    "        browser.find_element(By.XPATH,'//*[@name=\"school_address\"]').clear()\n",
    "        browser.find_element(By.XPATH,'//*[@name=\"school_address\"]').send_keys(baris['Alamat Sekolah Asal'])\n",
    "\n",
    "\n",
    "        # Data Pribadi Siswa\n",
    "        browser.find_element(By.XPATH,'//*[@id=\"accordion\"]/div/div[2]/button').click()\n",
    "        time.sleep(0.2)\n",
    "        browser.find_element(By.XPATH,'//*[@name=\"name\"]').clear()\n",
    "        browser.find_element(By.XPATH,'//*[@name=\"name\"]').send_keys(baris['Nama'])\n",
    "        \n",
    "        try:\n",
    "            NIS = int(baris['No Induk'])\n",
    "        except:\n",
    "            NIS = str(baris['No Induk'])\n",
    "        browser.find_element(By.XPATH,'//*[@name=\"nis\"]').clear()\n",
    "        browser.find_element(By.XPATH,'//*[@name=\"nis\"]').send_keys(NIS)\n",
    "        \n",
    "        try:\n",
    "            NISN = int(baris['NISN'])\n",
    "        except:\n",
    "            NISN = str(baris['NISN'])\n",
    "        browser.find_element(By.XPATH,'//*[@name=\"nisn\"]').clear()\n",
    "        browser.find_element(By.XPATH,'//*[@name=\"nisn\"]').send_keys(NISN)\n",
    "        browser.find_element(By.XPATH,'//*[@name=\"place_born\"]').clear()\n",
    "        browser.find_element(By.XPATH,'//*[@name=\"place_born\"]').send_keys(baris['Tempat Lahir'])\n",
    "        date= wait.until(EC.element_to_be_clickable((By.XPATH, '//*[@name=\"birth_born\"]')))\n",
    "        browser.execute_script(f\"arguments[0].removeAttribute('readonly')\", date)\n",
    "        browser.find_element(By.XPATH,'//*[@name=\"birth_born\"]').clear()\n",
    "        browser.find_element(By.XPATH,'//*[@name=\"birth_born\"]').send_keys(baris['Tanggal Lahir'])\n",
    "        select = Select(browser.find_element(By.XPATH,'//*[@name=\"gender\"]'))\n",
    "        select.select_by_visible_text(baris['Jenis Kelamin'].replace('laki','Laki'))\n",
    "        browser.find_element(By.XPATH,'//*[@name=\"address\"]').clear()\n",
    "        browser.find_element(By.XPATH,'//*[@name=\"address\"]').send_keys(baris['Nama Ibu'])\n",
    "        select = Select(browser.find_element(By.XPATH,'//*[@name=\"child_order\"]'))\n",
    "        select.select_by_visible_text(baris['Anak Ke'])\n",
    "\n",
    "        # Data Ibu Kandung\n",
    "        browser.find_element(By.XPATH,'//*[@id=\"accordion\"]/div/div[3]/button').click()\n",
    "        time.sleep(0.2)\n",
    "        browser.find_element(By.XPATH,'//*[@name=\"parent[1][name]\"]').clear()\n",
    "        browser.find_element(By.XPATH,'//*[@name=\"parent[1][name]\"]').send_keys(baris['Nama Ibu'])\n",
    "        browser.find_element(By.XPATH,'//*[@name=\"parent[1][phone_number]\"]').clear()\n",
    "        browser.find_element(By.XPATH,'//*[@name=\"parent[1][phone_number]\"]').send_keys(str(baris['Telp Ibu']))\n",
    "        browser.find_element(By.XPATH,'//*[@name=\"parent[1][work]\"]').clear()\n",
    "        browser.find_element(By.XPATH,'//*[@name=\"parent[1][work]\"]').send_keys(baris['Pekerjaan Ibu'])\n",
    "\n",
    "        # Data Ayah Kandung\n",
    "        browser.find_element(By.XPATH,'//*[@id=\"accordion\"]/div/div[4]/button').click()\n",
    "        time.sleep(0.2)\n",
    "        browser.find_element(By.XPATH,'//*[@name=\"parent[2][name]\"]').clear()\n",
    "        browser.find_element(By.XPATH,'//*[@name=\"parent[2][name]\"]').send_keys(baris['Nama Ayah'])\n",
    "        browser.find_element(By.XPATH,'//*[@name=\"parent[2][phone_number]\"]').clear()\n",
    "        browser.find_element(By.XPATH,'//*[@name=\"parent[2][phone_number]\"]').send_keys(str(baris['Telp Ayah']))\n",
    "        browser.find_element(By.XPATH,'//*[@name=\"parent[2][work]\"]').clear()\n",
    "        browser.find_element(By.XPATH,'//*[@name=\"parent[2][work]\"]').send_keys(baris['Pekerjaan Ayah'])\n",
    "\n",
    "        # Data Wali\n",
    "        browser.find_element(By.XPATH,'//*[@id=\"accordion\"]/div/div[5]/button').click()\n",
    "        time.sleep(0.2)\n",
    "        browser.find_element(By.XPATH,'//*[@name=\"parent[3][name]\"]').clear()\n",
    "        browser.find_element(By.XPATH,'//*[@name=\"parent[3][name]\"]').send_keys(baris['Nama Wali'])\n",
    "        browser.find_element(By.XPATH,'//*[@name=\"parent[3][phone_number]\"]').clear()\n",
    "        browser.find_element(By.XPATH,'//*[@name=\"parent[3][phone_number]\"]').send_keys(str(baris['Telp Wali']))\n",
    "        browser.find_element(By.XPATH,'//*[@name=\"parent[3][work]\"]').clear()\n",
    "        browser.find_element(By.XPATH,'//*[@name=\"parent[3][work]\"]').send_keys(baris['Pekerjaan Wali'])\n",
    "\n",
    "        browser.find_element(By.XPATH,'//*[@id=\"content\"]/form/div/div[2]/button').click()"
   ]
  },
  {
   "cell_type": "code",
   "execution_count": 302,
   "id": "2557da9b",
   "metadata": {},
   "outputs": [],
   "source": [
    "for idx_df,baris in df_try[15:].iterrows():\n",
    "    browser.get('https://sd.mitrakasih.online/student/create')\n",
    "    if 'login' in browser.current_url:\n",
    "        browser.find_element(By.XPATH,'//*[@id=\"email\"]').clear()\n",
    "        browser.find_element(By.XPATH,'//*[@id=\"password\"]').clear()\n",
    "        browser.find_element(By.XPATH,'//*[@id=\"email\"]').send_keys(\"\")\n",
    "        browser.find_element(By.XPATH,'//*[@id=\"password\"]').send_keys(\"\")\n",
    "        browser.find_element(By.XPATH,'/html/body/div/div/main/div/div/div/div/div/div/form/div[6]/div/button').click()\n",
    "        pass\n",
    "    wait = WebDriverWait(browser, 30)\n",
    "\n",
    "    # pilih jenis pendaftaran\n",
    "    select = Select(browser.find_element(By.XPATH,'//*[@id=\"card0\"]/div/div/div[1]/select'))\n",
    "    select.select_by_value('1')\n",
    "    # Pendaftaran Siswa\n",
    "    browser.find_element(By.XPATH,'//*[@id=\"accordion\"]/div/button').click()\n",
    "    time.sleep(0.2)\n",
    "    date= wait.until(EC.element_to_be_clickable((By.XPATH, '//*[@name=\"date_school\"]')))\n",
    "    browser.execute_script(f\"arguments[0].removeAttribute('readonly')\", date)\n",
    "    browser.find_element(By.XPATH,'//*[@name=\"date_school\"]').clear()\n",
    "    browser.find_element(By.XPATH,'//*[@name=\"date_school\"]').send_keys(baris['Pada Tanggal'])\n",
    "    browser.find_element(By.XPATH,'//*[@name=\"school_before\"]').clear()\n",
    "    browser.find_element(By.XPATH,'//*[@name=\"school_before\"]').send_keys(baris['Nama Sekolah Asal'])\n",
    "    browser.find_element(By.XPATH,'//*[@name=\"school_address\"]').clear()\n",
    "    browser.find_element(By.XPATH,'//*[@name=\"school_address\"]').send_keys(baris['Alamat Sekolah Asal'])\n",
    "\n",
    "\n",
    "    # Data Pribadi Siswa\n",
    "    browser.find_element(By.XPATH,'//*[@id=\"accordion\"]/div/div[2]/button').click()\n",
    "    time.sleep(0.2)\n",
    "    browser.find_element(By.XPATH,'//*[@name=\"name\"]').clear()\n",
    "    browser.find_element(By.XPATH,'//*[@name=\"name\"]').send_keys(baris['Nama'])\n",
    "\n",
    "    try:\n",
    "        NIS = int(baris['No Induk'])\n",
    "    except:\n",
    "        NIS = str(baris['No Induk'])\n",
    "    browser.find_element(By.XPATH,'//*[@name=\"nis\"]').clear()\n",
    "    browser.find_element(By.XPATH,'//*[@name=\"nis\"]').send_keys(NIS)\n",
    "\n",
    "    try:\n",
    "        NISN = int(baris['NISN'])\n",
    "    except:\n",
    "        NISN = str(baris['NISN'])\n",
    "    browser.find_element(By.XPATH,'//*[@name=\"nisn\"]').clear()\n",
    "    browser.find_element(By.XPATH,'//*[@name=\"nisn\"]').send_keys(NISN)\n",
    "    browser.find_element(By.XPATH,'//*[@name=\"place_born\"]').clear()\n",
    "    browser.find_element(By.XPATH,'//*[@name=\"place_born\"]').send_keys(baris['Tempat Lahir'])\n",
    "    date= wait.until(EC.element_to_be_clickable((By.XPATH, '//*[@name=\"birth_born\"]')))\n",
    "    browser.execute_script(f\"arguments[0].removeAttribute('readonly')\", date)\n",
    "    browser.find_element(By.XPATH,'//*[@name=\"birth_born\"]').clear()\n",
    "    browser.find_element(By.XPATH,'//*[@name=\"birth_born\"]').send_keys(baris['Tanggal Lahir'])\n",
    "    select = Select(browser.find_element(By.XPATH,'//*[@name=\"gender\"]'))\n",
    "    select.select_by_visible_text(baris['Jenis Kelamin'].replace('laki','Laki'))\n",
    "    browser.find_element(By.XPATH,'//*[@name=\"address\"]').clear()\n",
    "    browser.find_element(By.XPATH,'//*[@name=\"address\"]').send_keys(baris['Nama Ibu'])\n",
    "    select = Select(browser.find_element(By.XPATH,'//*[@name=\"child_order\"]'))\n",
    "    select.select_by_visible_text(baris['Anak Ke'])\n",
    "\n",
    "    # Data Ibu Kandung\n",
    "    browser.find_element(By.XPATH,'//*[@id=\"accordion\"]/div/div[3]/button').click()\n",
    "    time.sleep(0.2)\n",
    "    browser.find_element(By.XPATH,'//*[@name=\"parent[1][name]\"]').clear()\n",
    "    browser.find_element(By.XPATH,'//*[@name=\"parent[1][name]\"]').send_keys(baris['Nama Ibu'])\n",
    "    browser.find_element(By.XPATH,'//*[@name=\"parent[1][phone_number]\"]').clear()\n",
    "    browser.find_element(By.XPATH,'//*[@name=\"parent[1][phone_number]\"]').send_keys(str(baris['Telp Ibu']))\n",
    "    browser.find_element(By.XPATH,'//*[@name=\"parent[1][work]\"]').clear()\n",
    "    browser.find_element(By.XPATH,'//*[@name=\"parent[1][work]\"]').send_keys(baris['Pekerjaan Ibu'])\n",
    "\n",
    "    # Data Ayah Kandung\n",
    "    browser.find_element(By.XPATH,'//*[@id=\"accordion\"]/div/div[4]/button').click()\n",
    "    time.sleep(0.2)\n",
    "    browser.find_element(By.XPATH,'//*[@name=\"parent[2][name]\"]').clear()\n",
    "    browser.find_element(By.XPATH,'//*[@name=\"parent[2][name]\"]').send_keys(baris['Nama Ayah'])\n",
    "    browser.find_element(By.XPATH,'//*[@name=\"parent[2][phone_number]\"]').clear()\n",
    "    browser.find_element(By.XPATH,'//*[@name=\"parent[2][phone_number]\"]').send_keys(str(baris['Telp Ayah']))\n",
    "    browser.find_element(By.XPATH,'//*[@name=\"parent[2][work]\"]').clear()\n",
    "    browser.find_element(By.XPATH,'//*[@name=\"parent[2][work]\"]').send_keys(baris['Pekerjaan Ayah'])\n",
    "\n",
    "    # Data Wali\n",
    "    browser.find_element(By.XPATH,'//*[@id=\"accordion\"]/div/div[5]/button').click()\n",
    "    time.sleep(0.2)\n",
    "    browser.find_element(By.XPATH,'//*[@name=\"parent[3][name]\"]').clear()\n",
    "    browser.find_element(By.XPATH,'//*[@name=\"parent[3][name]\"]').send_keys(baris['Nama Wali'])\n",
    "    browser.find_element(By.XPATH,'//*[@name=\"parent[3][phone_number]\"]').clear()\n",
    "    browser.find_element(By.XPATH,'//*[@name=\"parent[3][phone_number]\"]').send_keys(str(baris['Telp Wali']))\n",
    "    browser.find_element(By.XPATH,'//*[@name=\"parent[3][work]\"]').clear()\n",
    "    browser.find_element(By.XPATH,'//*[@name=\"parent[3][work]\"]').send_keys(baris['Pekerjaan Wali'])\n",
    "\n",
    "    browser.find_element(By.XPATH,'//*[@id=\"content\"]/form/div/div[2]/button').click()"
   ]
  },
  {
   "cell_type": "code",
   "execution_count": 271,
   "id": "386a6ad8",
   "metadata": {},
   "outputs": [
    {
     "data": {
      "text/plain": [
       "'Laki-Laki'"
      ]
     },
     "execution_count": 271,
     "metadata": {},
     "output_type": "execute_result"
    }
   ],
   "source": [
    "baris['Jenis Kelamin'].replace('laki','Laki')"
   ]
  },
  {
   "cell_type": "code",
   "execution_count": 292,
   "id": "f6f6ced8",
   "metadata": {},
   "outputs": [
    {
     "data": {
      "text/plain": [
       "(19, 'P3 B')"
      ]
     },
     "execution_count": 292,
     "metadata": {},
     "output_type": "execute_result"
    }
   ],
   "source": [
    "idx_df,kelas_sd"
   ]
  },
  {
   "cell_type": "markdown",
   "id": "97ae6535",
   "metadata": {},
   "source": [
    "# Iterasi SMP"
   ]
  },
  {
   "cell_type": "code",
   "execution_count": 317,
   "id": "ab3c3d15",
   "metadata": {},
   "outputs": [],
   "source": [
    "df = pd.ExcelFile('57B6E500.xlsx')"
   ]
  },
  {
   "cell_type": "code",
   "execution_count": 308,
   "id": "de324d7d",
   "metadata": {},
   "outputs": [
    {
     "name": "stdout",
     "output_type": "stream",
     "text": [
      "['G7 A ', 'G7 B', 'G8 A ', 'G8 B', 'G9 A', 'G9 B']\n"
     ]
    }
   ],
   "source": [
    "range_smp = range(6,9)\n",
    "list_smp = [s for s in df.sheet_names for i in range_smp if 'G'+str(i+1) in s]\n",
    "print(list_smp)"
   ]
  },
  {
   "cell_type": "code",
   "execution_count": null,
   "id": "89c0659f",
   "metadata": {
    "scrolled": true
   },
   "outputs": [
    {
     "name": "stdout",
     "output_type": "stream",
     "text": [
      "G7 B\n",
      "G7 B 1\n"
     ]
    }
   ],
   "source": [
    "browser.get('https://smp.mitrakasih.online/student/create')\n",
    "\n",
    "\n",
    "#list sd sementara. kalo dah kelar dan dk ad eror, hapus aja\n",
    "list_smp = ['G7 B', 'G8 A ', 'G8 B', 'G9 A', 'G9 B']\n",
    "\n",
    "# iterasi semua sheet\n",
    "for kelas_sd in list_smp:\n",
    "    print(kelas_sd)\n",
    "    if 'login' in browser.current_url:\n",
    "        browser.find_element(By.XPATH,'//*[@id=\"email\"]').clear()\n",
    "        browser.find_element(By.XPATH,'//*[@id=\"password\"]').clear()\n",
    "        browser.find_element(By.XPATH,'//*[@id=\"email\"]').send_keys(\"\")\n",
    "        browser.find_element(By.XPATH,'//*[@id=\"password\"]').send_keys(\"\")\n",
    "        browser.find_element(By.XPATH,'/html/body/div/div/main/div/div/div/div/div/div/form/div[6]/div/button').click()\n",
    "        pass\n",
    "    df_try = df.parse(kelas_sd)\n",
    "    df_try = df_try[df_try.iloc[:,0].notna()]\n",
    "    df_try = df_try.replace({'-':''})\n",
    "    df_try = df_try.fillna('')\n",
    "    \n",
    "    \n",
    "    df_try['Pada Tanggal'] = df_try['Pada Tanggal'].replace(format_month, regex=True)\n",
    "    df_try['Tempat Lahir'] = df_try['Tempat Tanggal Lahir'].str.split(',').str[0]\n",
    "    df_try['Tanggal Lahir'] = df_try['Tempat Tanggal Lahir'].str.split(',').str[1].str[1:]\n",
    "    df_try['Tanggal Lahir'] = df_try['Tanggal Lahir'].replace(format_month, regex=True)\n",
    "    df_try['Jenis Kelamin'] = df_try['Jenis Kelamin'].str.replace('Laki-laki','Laki-Laki')\n",
    "    df_try = df_try.replace({'Laki-laki':'Laki-Laki','perempuan':'Perempuan'})\n",
    "    df_try['Anak Ke'] = df_try['Anak Ke -'].str[0]\n",
    "    df_try['Agama'] = df_try['Agama'].replace(fix_agama, regex=True)\n",
    "    df_try['Jenis Kelamin'] = df_try['Jenis Kelamin'].str.replace(' ','')\n",
    "    \n",
    "    for idx_df,baris in df_try.iterrows():\n",
    "        print(kelas_sd,idx_df)\n",
    "#         browser.get('https://smp.mitrakasih.online/student/create')\n",
    "        wait = WebDriverWait(browser, 30)\n",
    "\n",
    "        # pilih jenis pendaftaran\n",
    "        select = Select(browser.find_element(By.XPATH,'//*[@id=\"card0\"]/div/div/div[1]/select'))\n",
    "        select.select_by_value('1')\n",
    "        # Pendaftaran Siswa\n",
    "        browser.find_element(By.XPATH,'//*[@id=\"accordion\"]/div/button').click()\n",
    "        time.sleep(0.2)\n",
    "        date= wait.until(EC.element_to_be_clickable((By.XPATH, '//*[@name=\"date_school\"]')))\n",
    "        browser.execute_script(f\"arguments[0].removeAttribute('readonly')\", date)\n",
    "        browser.find_element(By.XPATH,'//*[@name=\"date_school\"]').clear()\n",
    "        browser.find_element(By.XPATH,'//*[@name=\"date_school\"]').send_keys(baris['Pada Tanggal'])\n",
    "        browser.find_element(By.XPATH,'//*[@name=\"school_before\"]').clear()\n",
    "        browser.find_element(By.XPATH,'//*[@name=\"school_before\"]').send_keys(baris['Nama Sekolah Asal'])\n",
    "        browser.find_element(By.XPATH,'//*[@name=\"school_address\"]').clear()\n",
    "        browser.find_element(By.XPATH,'//*[@name=\"school_address\"]').send_keys(baris['Alamat Sekolah Asal'])\n",
    "\n",
    "\n",
    "        # Data Pribadi Siswa\n",
    "        browser.find_element(By.XPATH,'//*[@id=\"accordion\"]/div/div[2]/button').click()\n",
    "        time.sleep(0.2)\n",
    "        browser.find_element(By.XPATH,'//*[@name=\"name\"]').clear()\n",
    "        browser.find_element(By.XPATH,'//*[@name=\"name\"]').send_keys(baris['Nama'])\n",
    "        \n",
    "        try:\n",
    "            NIS = int(baris['No Induk'])\n",
    "        except:\n",
    "            NIS = str(baris['No Induk'])\n",
    "        browser.find_element(By.XPATH,'//*[@name=\"nis\"]').clear()\n",
    "        browser.find_element(By.XPATH,'//*[@name=\"nis\"]').send_keys(NIS)\n",
    "        \n",
    "        try:\n",
    "            NISN = int(baris['NISN'])\n",
    "        except:\n",
    "            NISN = str(baris['NISN'])\n",
    "        browser.find_element(By.XPATH,'//*[@name=\"nisn\"]').clear()\n",
    "        browser.find_element(By.XPATH,'//*[@name=\"nisn\"]').send_keys(NISN)\n",
    "        browser.find_element(By.XPATH,'//*[@name=\"place_born\"]').clear()\n",
    "        browser.find_element(By.XPATH,'//*[@name=\"place_born\"]').send_keys(baris['Tempat Lahir'])\n",
    "        date= wait.until(EC.element_to_be_clickable((By.XPATH, '//*[@name=\"birth_born\"]')))\n",
    "        browser.execute_script(f\"arguments[0].removeAttribute('readonly')\", date)\n",
    "        browser.find_element(By.XPATH,'//*[@name=\"birth_born\"]').clear()\n",
    "        browser.find_element(By.XPATH,'//*[@name=\"birth_born\"]').send_keys(baris['Tanggal Lahir'])\n",
    "        select = Select(browser.find_element(By.XPATH,'//*[@name=\"gender\"]'))\n",
    "        select.select_by_visible_text(baris['Jenis Kelamin'].replace('laki','Laki'))\n",
    "        browser.find_element(By.XPATH,'//*[@name=\"address\"]').clear()\n",
    "        browser.find_element(By.XPATH,'//*[@name=\"address\"]').send_keys(baris['Nama Ibu'])\n",
    "        select = Select(browser.find_element(By.XPATH,'//*[@name=\"child_order\"]'))\n",
    "        select.select_by_visible_text(baris['Anak Ke'])\n",
    "\n",
    "        # Data Ibu Kandung\n",
    "        browser.find_element(By.XPATH,'//*[@id=\"accordion\"]/div/div[3]/button').click()\n",
    "        time.sleep(0.2)\n",
    "        browser.find_element(By.XPATH,'//*[@name=\"parent[1][name]\"]').clear()\n",
    "        browser.find_element(By.XPATH,'//*[@name=\"parent[1][name]\"]').send_keys(baris['Nama Ibu'])\n",
    "        browser.find_element(By.XPATH,'//*[@name=\"parent[1][phone_number]\"]').clear()\n",
    "        browser.find_element(By.XPATH,'//*[@name=\"parent[1][phone_number]\"]').send_keys(str(baris['Telp Ibu']))\n",
    "        browser.find_element(By.XPATH,'//*[@name=\"parent[1][work]\"]').clear()\n",
    "        browser.find_element(By.XPATH,'//*[@name=\"parent[1][work]\"]').send_keys(baris['Pekerjaan Ibu'])\n",
    "\n",
    "        # Data Ayah Kandung\n",
    "        browser.find_element(By.XPATH,'//*[@id=\"accordion\"]/div/div[4]/button').click()\n",
    "        time.sleep(0.2)\n",
    "        browser.find_element(By.XPATH,'//*[@name=\"parent[2][name]\"]').clear()\n",
    "        browser.find_element(By.XPATH,'//*[@name=\"parent[2][name]\"]').send_keys(baris['Nama Ayah'])\n",
    "        browser.find_element(By.XPATH,'//*[@name=\"parent[2][phone_number]\"]').clear()\n",
    "        browser.find_element(By.XPATH,'//*[@name=\"parent[2][phone_number]\"]').send_keys(str(baris['Telp Ayah']))\n",
    "        browser.find_element(By.XPATH,'//*[@name=\"parent[2][work]\"]').clear()\n",
    "        browser.find_element(By.XPATH,'//*[@name=\"parent[2][work]\"]').send_keys(baris['Pekerjaan Ayah'])\n",
    "\n",
    "        # Data Wali\n",
    "        browser.find_element(By.XPATH,'//*[@id=\"accordion\"]/div/div[5]/button').click()\n",
    "        time.sleep(0.2)\n",
    "        browser.find_element(By.XPATH,'//*[@name=\"parent[3][name]\"]').clear()\n",
    "        browser.find_element(By.XPATH,'//*[@name=\"parent[3][name]\"]').send_keys(baris['Nama Wali'])\n",
    "        browser.find_element(By.XPATH,'//*[@name=\"parent[3][phone_number]\"]').clear()\n",
    "        browser.find_element(By.XPATH,'//*[@name=\"parent[3][phone_number]\"]').send_keys(str(baris['Telp Wali']))\n",
    "        browser.find_element(By.XPATH,'//*[@name=\"parent[3][work]\"]').clear()\n",
    "        browser.find_element(By.XPATH,'//*[@name=\"parent[3][work]\"]').send_keys(baris['Pekerjaan Wali'])\n",
    "\n",
    "#         browser.find_element(By.XPATH,'//*[@id=\"content\"]/form/div/div[2]/button').click()"
   ]
  },
  {
   "cell_type": "markdown",
   "id": "e916e88d",
   "metadata": {},
   "source": [
    "# Iterasi SMA"
   ]
  },
  {
   "cell_type": "code",
   "execution_count": 10,
   "id": "a64dce0d",
   "metadata": {},
   "outputs": [],
   "source": [
    "df = pd.ExcelFile('B693F500.xlsx')"
   ]
  },
  {
   "cell_type": "code",
   "execution_count": 14,
   "id": "d87da91f",
   "metadata": {},
   "outputs": [
    {
     "name": "stdout",
     "output_type": "stream",
     "text": [
      "['G10', 'G11']\n"
     ]
    }
   ],
   "source": [
    "range_sma = range(9,12)\n",
    "list_sma = [s for s in df.sheet_names for i in range_sma if 'G'+str(i+1) in s]\n",
    "print(list_sma)"
   ]
  },
  {
   "cell_type": "code",
   "execution_count": 15,
   "id": "93f8e1fe",
   "metadata": {},
   "outputs": [
    {
     "data": {
      "text/plain": [
       "(13, 'G11')"
      ]
     },
     "execution_count": 15,
     "metadata": {},
     "output_type": "execute_result"
    }
   ],
   "source": [
    "idx_df,kelas_sd"
   ]
  },
  {
   "cell_type": "code",
   "execution_count": 20,
   "id": "a34769c1",
   "metadata": {},
   "outputs": [],
   "source": [
    "link_url ='https://sma.mitrakasih.online/student/create'\n",
    "browser.get(link_url)"
   ]
  },
  {
   "cell_type": "code",
   "execution_count": 21,
   "id": "05f68442",
   "metadata": {},
   "outputs": [
    {
     "name": "stdout",
     "output_type": "stream",
     "text": [
      "G10\n",
      "G10 0\n",
      "G10 1\n",
      "G10 2\n",
      "G10 3\n",
      "G10 4\n",
      "G10 5\n",
      "G10 6\n",
      "G10 7\n",
      "G10 8\n",
      "G10 9\n",
      "G10 10\n",
      "G10 11\n",
      "G11\n",
      "G11 0\n",
      "G11 1\n",
      "G11 2\n",
      "G11 3\n",
      "G11 4\n",
      "G11 5\n",
      "G11 6\n",
      "G11 7\n",
      "G11 8\n",
      "G11 9\n",
      "G11 10\n",
      "G11 11\n",
      "G11 12\n",
      "G11 13\n"
     ]
    }
   ],
   "source": [
    "#list sd sementara. kalo dah kelar dan dk ad eror, hapus aja\n",
    "# list_sma = ['G11']\n",
    "\n",
    "# iterasi semua sheet\n",
    "for kelas_sd in list_sma:\n",
    "    if 'login' in browser.current_url:\n",
    "        browser.find_element(By.XPATH,'//*[@id=\"email\"]').clear()\n",
    "        browser.find_element(By.XPATH,'//*[@id=\"password\"]').clear()\n",
    "        browser.find_element(By.XPATH,'//*[@id=\"email\"]').send_keys(\"\")\n",
    "        browser.find_element(By.XPATH,'//*[@id=\"password\"]').send_keys(\"\")\n",
    "        browser.find_element(By.XPATH,'/html/body/div/div/main/div/div/div/div/div/div/form/div[6]/div/button').click()\n",
    "        pass\n",
    "    print(kelas_sd)\n",
    "    df_try = df.parse(kelas_sd)\n",
    "    df_try = df_try[df_try.iloc[:,0].notna()]\n",
    "    df_try = df_try.replace({'-':''})\n",
    "    df_try = df_try.fillna('')\n",
    "    \n",
    "    \n",
    "    df_try['Pada Tanggal'] = df_try['Pada Tanggal'].replace(format_month, regex=True)\n",
    "    df_try['Tempat Lahir'] = df_try['Tempat Tanggal Lahir'].str.split(',').str[0]\n",
    "    df_try['Tanggal Lahir'] = df_try['Tempat Tanggal Lahir'].str.split(',').str[1].str[1:]\n",
    "    df_try['Tanggal Lahir'] = df_try['Tanggal Lahir'].replace(format_month, regex=True)\n",
    "    df_try['Jenis Kelamin'] = df_try['Jenis Kelamin'].str.replace('Laki-laki','Laki-Laki')\n",
    "    df_try = df_try.replace({'Laki-laki':'Laki-Laki','perempuan':'Perempuan'})\n",
    "    df_try['Anak Ke'] = df_try['Anak Ke -'].str[0]\n",
    "    df_try['Agama'] = df_try['Agama'].replace(fix_agama, regex=True)\n",
    "    df_try['Jenis Kelamin'] = df_try['Jenis Kelamin'].str.replace(' ','')\n",
    "    \n",
    "    for idx_df,baris in df_try.iterrows():\n",
    "        print(kelas_sd,idx_df)\n",
    "        browser.get(link_url)\n",
    "        wait = WebDriverWait(browser, 30)\n",
    "\n",
    "        # pilih jenis pendaftaran\n",
    "        select = Select(browser.find_element(By.XPATH,'//*[@id=\"card0\"]/div/div/div[1]/select'))\n",
    "        select.select_by_value('1')\n",
    "        # Pendaftaran Siswa\n",
    "        browser.find_element(By.XPATH,'//*[@id=\"accordion\"]/div/button').click()\n",
    "        time.sleep(0.2)\n",
    "        date= wait.until(EC.element_to_be_clickable((By.XPATH, '//*[@name=\"date_school\"]')))\n",
    "        browser.execute_script(f\"arguments[0].removeAttribute('readonly')\", date)\n",
    "        browser.find_element(By.XPATH,'//*[@name=\"date_school\"]').clear()\n",
    "        browser.find_element(By.XPATH,'//*[@name=\"date_school\"]').send_keys(baris['Pada Tanggal'])\n",
    "        browser.find_element(By.XPATH,'//*[@name=\"school_before\"]').clear()\n",
    "        browser.find_element(By.XPATH,'//*[@name=\"school_before\"]').send_keys(baris['Nama Sekolah Asal'])\n",
    "        browser.find_element(By.XPATH,'//*[@name=\"school_address\"]').clear()\n",
    "        browser.find_element(By.XPATH,'//*[@name=\"school_address\"]').send_keys(baris['Alamat Sekolah Asal'])\n",
    "\n",
    "\n",
    "        # Data Pribadi Siswa\n",
    "        browser.find_element(By.XPATH,'//*[@id=\"accordion\"]/div/div[2]/button').click()\n",
    "        time.sleep(0.2)\n",
    "        browser.find_element(By.XPATH,'//*[@name=\"name\"]').clear()\n",
    "        browser.find_element(By.XPATH,'//*[@name=\"name\"]').send_keys(baris['Nama'])\n",
    "        \n",
    "        try:\n",
    "            NIS = int(baris['No Induk'])\n",
    "        except:\n",
    "            NIS = str(baris['No Induk'])\n",
    "        browser.find_element(By.XPATH,'//*[@name=\"nis\"]').clear()\n",
    "        browser.find_element(By.XPATH,'//*[@name=\"nis\"]').send_keys(NIS)\n",
    "        \n",
    "        try:\n",
    "            NISN = int(baris['NISN'])\n",
    "        except:\n",
    "            NISN = str(baris['NISN'])\n",
    "        browser.find_element(By.XPATH,'//*[@name=\"nisn\"]').clear()\n",
    "        browser.find_element(By.XPATH,'//*[@name=\"nisn\"]').send_keys(NISN)\n",
    "        browser.find_element(By.XPATH,'//*[@name=\"place_born\"]').clear()\n",
    "        browser.find_element(By.XPATH,'//*[@name=\"place_born\"]').send_keys(baris['Tempat Lahir'])\n",
    "        date= wait.until(EC.element_to_be_clickable((By.XPATH, '//*[@name=\"birth_born\"]')))\n",
    "        browser.execute_script(f\"arguments[0].removeAttribute('readonly')\", date)\n",
    "        browser.find_element(By.XPATH,'//*[@name=\"birth_born\"]').clear()\n",
    "        browser.find_element(By.XPATH,'//*[@name=\"birth_born\"]').send_keys(baris['Tanggal Lahir'])\n",
    "        select = Select(browser.find_element(By.XPATH,'//*[@name=\"gender\"]'))\n",
    "        select.select_by_visible_text(baris['Jenis Kelamin'].replace('laki','Laki'))\n",
    "        browser.find_element(By.XPATH,'//*[@name=\"address\"]').clear()\n",
    "        browser.find_element(By.XPATH,'//*[@name=\"address\"]').send_keys(baris['Nama Ibu'])\n",
    "        select = Select(browser.find_element(By.XPATH,'//*[@name=\"child_order\"]'))\n",
    "        select.select_by_visible_text(baris['Anak Ke'])\n",
    "\n",
    "        # Data Ibu Kandung\n",
    "        browser.find_element(By.XPATH,'//*[@id=\"accordion\"]/div/div[3]/button').click()\n",
    "        time.sleep(0.2)\n",
    "        browser.find_element(By.XPATH,'//*[@name=\"parent[1][name]\"]').clear()\n",
    "        browser.find_element(By.XPATH,'//*[@name=\"parent[1][name]\"]').send_keys(baris['Nama Ibu'])\n",
    "        browser.find_element(By.XPATH,'//*[@name=\"parent[1][phone_number]\"]').clear()\n",
    "        browser.find_element(By.XPATH,'//*[@name=\"parent[1][phone_number]\"]').send_keys(str(baris['Telp Ibu']))\n",
    "        browser.find_element(By.XPATH,'//*[@name=\"parent[1][work]\"]').clear()\n",
    "        browser.find_element(By.XPATH,'//*[@name=\"parent[1][work]\"]').send_keys(baris['Pekerjaan Ibu'])\n",
    "\n",
    "        # Data Ayah Kandung\n",
    "        browser.find_element(By.XPATH,'//*[@id=\"accordion\"]/div/div[4]/button').click()\n",
    "        time.sleep(0.2)\n",
    "        browser.find_element(By.XPATH,'//*[@name=\"parent[2][name]\"]').clear()\n",
    "        browser.find_element(By.XPATH,'//*[@name=\"parent[2][name]\"]').send_keys(baris['Nama Ayah'])\n",
    "        browser.find_element(By.XPATH,'//*[@name=\"parent[2][phone_number]\"]').clear()\n",
    "        browser.find_element(By.XPATH,'//*[@name=\"parent[2][phone_number]\"]').send_keys(str(baris['Telp Ayah']))\n",
    "        browser.find_element(By.XPATH,'//*[@name=\"parent[2][work]\"]').clear()\n",
    "        browser.find_element(By.XPATH,'//*[@name=\"parent[2][work]\"]').send_keys(baris['Pekerjaan Ayah'])\n",
    "\n",
    "        # Data Wali\n",
    "        browser.find_element(By.XPATH,'//*[@id=\"accordion\"]/div/div[5]/button').click()\n",
    "        time.sleep(0.2)\n",
    "        browser.find_element(By.XPATH,'//*[@name=\"parent[3][name]\"]').clear()\n",
    "        browser.find_element(By.XPATH,'//*[@name=\"parent[3][name]\"]').send_keys(baris['Nama Wali'])\n",
    "        browser.find_element(By.XPATH,'//*[@name=\"parent[3][phone_number]\"]').clear()\n",
    "        browser.find_element(By.XPATH,'//*[@name=\"parent[3][phone_number]\"]').send_keys(str(baris['Telp Wali']))\n",
    "        browser.find_element(By.XPATH,'//*[@name=\"parent[3][work]\"]').clear()\n",
    "        browser.find_element(By.XPATH,'//*[@name=\"parent[3][work]\"]').send_keys(baris['Pekerjaan Wali'])\n",
    "\n",
    "        browser.find_element(By.XPATH,'//*[@id=\"content\"]/form/div/div[2]/button').click()"
   ]
  }
 ],
 "metadata": {
  "kernelspec": {
   "display_name": "Python 3 (ipykernel)",
   "language": "python",
   "name": "python3"
  },
  "language_info": {
   "codemirror_mode": {
    "name": "ipython",
    "version": 3
   },
   "file_extension": ".py",
   "mimetype": "text/x-python",
   "name": "python",
   "nbconvert_exporter": "python",
   "pygments_lexer": "ipython3",
   "version": "3.9.7"
  }
 },
 "nbformat": 4,
 "nbformat_minor": 5
}
